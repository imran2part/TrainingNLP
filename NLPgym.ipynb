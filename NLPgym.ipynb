{
 "cells": [
  {
   "cell_type": "code",
   "execution_count": 26,
   "id": "d2a29116-244c-4e8c-90b3-1f8562170158",
   "metadata": {},
   "outputs": [
    {
     "data": {
      "text/html": [
       "<div>\n",
       "<style scoped>\n",
       "    .dataframe tbody tr th:only-of-type {\n",
       "        vertical-align: middle;\n",
       "    }\n",
       "\n",
       "    .dataframe tbody tr th {\n",
       "        vertical-align: top;\n",
       "    }\n",
       "\n",
       "    .dataframe thead th {\n",
       "        text-align: right;\n",
       "    }\n",
       "</style>\n",
       "<table border=\"1\" class=\"dataframe\">\n",
       "  <thead>\n",
       "    <tr style=\"text-align: right;\">\n",
       "      <th></th>\n",
       "      <th>premise</th>\n",
       "      <th>hypothesis</th>\n",
       "      <th>lang_abv</th>\n",
       "      <th>language</th>\n",
       "      <th>label</th>\n",
       "    </tr>\n",
       "    <tr>\n",
       "      <th>id</th>\n",
       "      <th></th>\n",
       "      <th></th>\n",
       "      <th></th>\n",
       "      <th></th>\n",
       "      <th></th>\n",
       "    </tr>\n",
       "  </thead>\n",
       "  <tbody>\n",
       "    <tr>\n",
       "      <th>5130fd2cb5</th>\n",
       "      <td>and these comments were considered in formulat...</td>\n",
       "      <td>The rules developed in the interim were put to...</td>\n",
       "      <td>en</td>\n",
       "      <td>English</td>\n",
       "      <td>0</td>\n",
       "    </tr>\n",
       "    <tr>\n",
       "      <th>5b72532a0b</th>\n",
       "      <td>These are issues that we wrestle with in pract...</td>\n",
       "      <td>Practice groups are not permitted to work on t...</td>\n",
       "      <td>en</td>\n",
       "      <td>English</td>\n",
       "      <td>2</td>\n",
       "    </tr>\n",
       "    <tr>\n",
       "      <th>3931fbe82a</th>\n",
       "      <td>Des petites choses comme celles-là font une di...</td>\n",
       "      <td>J'essayais d'accomplir quelque chose.</td>\n",
       "      <td>fr</td>\n",
       "      <td>French</td>\n",
       "      <td>0</td>\n",
       "    </tr>\n",
       "    <tr>\n",
       "      <th>5622f0c60b</th>\n",
       "      <td>you know they can't really defend themselves l...</td>\n",
       "      <td>They can't defend themselves because of their ...</td>\n",
       "      <td>en</td>\n",
       "      <td>English</td>\n",
       "      <td>0</td>\n",
       "    </tr>\n",
       "    <tr>\n",
       "      <th>86aaa48b45</th>\n",
       "      <td>ในการเล่นบทบาทสมมุติก็เช่นกัน โอกาสที่จะได้แสด...</td>\n",
       "      <td>เด็กสามารถเห็นได้ว่าชาติพันธุ์แตกต่างกันอย่างไร</td>\n",
       "      <td>th</td>\n",
       "      <td>Thai</td>\n",
       "      <td>1</td>\n",
       "    </tr>\n",
       "    <tr>\n",
       "      <th>...</th>\n",
       "      <td>...</td>\n",
       "      <td>...</td>\n",
       "      <td>...</td>\n",
       "      <td>...</td>\n",
       "      <td>...</td>\n",
       "    </tr>\n",
       "    <tr>\n",
       "      <th>2b78e2a914</th>\n",
       "      <td>The results of even the most well designed epi...</td>\n",
       "      <td>All studies have the same amount of uncertaint...</td>\n",
       "      <td>en</td>\n",
       "      <td>English</td>\n",
       "      <td>2</td>\n",
       "    </tr>\n",
       "    <tr>\n",
       "      <th>7e9943d152</th>\n",
       "      <td>But there are two kinds of  the pleasure of do...</td>\n",
       "      <td>But there are two kinds of the pleasure of doi...</td>\n",
       "      <td>en</td>\n",
       "      <td>English</td>\n",
       "      <td>0</td>\n",
       "    </tr>\n",
       "    <tr>\n",
       "      <th>5085923e6c</th>\n",
       "      <td>The important thing is to realize that it's wa...</td>\n",
       "      <td>It cannot be moved, now or ever.</td>\n",
       "      <td>en</td>\n",
       "      <td>English</td>\n",
       "      <td>2</td>\n",
       "    </tr>\n",
       "    <tr>\n",
       "      <th>fc8e2fd1fe</th>\n",
       "      <td>At the west end is a detailed model of the who...</td>\n",
       "      <td>The model temple complex is at the east end.</td>\n",
       "      <td>en</td>\n",
       "      <td>English</td>\n",
       "      <td>2</td>\n",
       "    </tr>\n",
       "    <tr>\n",
       "      <th>44301dfb14</th>\n",
       "      <td>For himself he chose Atat??rk, or Father of th...</td>\n",
       "      <td>Ataturk was the father of the Turkish nation.</td>\n",
       "      <td>en</td>\n",
       "      <td>English</td>\n",
       "      <td>0</td>\n",
       "    </tr>\n",
       "  </tbody>\n",
       "</table>\n",
       "<p>12120 rows × 5 columns</p>\n",
       "</div>"
      ],
      "text/plain": [
       "                                                      premise  \\\n",
       "id                                                              \n",
       "5130fd2cb5  and these comments were considered in formulat...   \n",
       "5b72532a0b  These are issues that we wrestle with in pract...   \n",
       "3931fbe82a  Des petites choses comme celles-là font une di...   \n",
       "5622f0c60b  you know they can't really defend themselves l...   \n",
       "86aaa48b45  ในการเล่นบทบาทสมมุติก็เช่นกัน โอกาสที่จะได้แสด...   \n",
       "...                                                       ...   \n",
       "2b78e2a914  The results of even the most well designed epi...   \n",
       "7e9943d152  But there are two kinds of  the pleasure of do...   \n",
       "5085923e6c  The important thing is to realize that it's wa...   \n",
       "fc8e2fd1fe  At the west end is a detailed model of the who...   \n",
       "44301dfb14  For himself he chose Atat??rk, or Father of th...   \n",
       "\n",
       "                                                   hypothesis lang_abv  \\\n",
       "id                                                                       \n",
       "5130fd2cb5  The rules developed in the interim were put to...       en   \n",
       "5b72532a0b  Practice groups are not permitted to work on t...       en   \n",
       "3931fbe82a              J'essayais d'accomplir quelque chose.       fr   \n",
       "5622f0c60b  They can't defend themselves because of their ...       en   \n",
       "86aaa48b45    เด็กสามารถเห็นได้ว่าชาติพันธุ์แตกต่างกันอย่างไร       th   \n",
       "...                                                       ...      ...   \n",
       "2b78e2a914  All studies have the same amount of uncertaint...       en   \n",
       "7e9943d152  But there are two kinds of the pleasure of doi...       en   \n",
       "5085923e6c                   It cannot be moved, now or ever.       en   \n",
       "fc8e2fd1fe       The model temple complex is at the east end.       en   \n",
       "44301dfb14      Ataturk was the father of the Turkish nation.       en   \n",
       "\n",
       "           language  label  \n",
       "id                          \n",
       "5130fd2cb5  English      0  \n",
       "5b72532a0b  English      2  \n",
       "3931fbe82a   French      0  \n",
       "5622f0c60b  English      0  \n",
       "86aaa48b45     Thai      1  \n",
       "...             ...    ...  \n",
       "2b78e2a914  English      2  \n",
       "7e9943d152  English      0  \n",
       "5085923e6c  English      2  \n",
       "fc8e2fd1fe  English      2  \n",
       "44301dfb14  English      0  \n",
       "\n",
       "[12120 rows x 5 columns]"
      ]
     },
     "execution_count": 26,
     "metadata": {},
     "output_type": "execute_result"
    }
   ],
   "source": [
    "import pandas as pd\n",
    "from sklearn.model_selection import train_test_split\n",
    "from pathlib import Path\n",
    "# !pip install kaggle\n",
    "# Read the data\n",
    "# X = pd.read_csv('./input/train.csv', index_col='id')\n",
    "path =  Path('./input')\n",
    "# X = pd.read_csv('./input/train.csv', index_col=0)\n",
    "df = pd.read_csv(path/'train.csv', index_col=0)\n",
    "X_test_full = pd.read_csv('./input/test.csv', index_col='id')\n",
    "# X.describe()\n",
    "# print(X)\n",
    "# X.shape\n",
    "# !dir {path}\n",
    "# X.head()\n",
    "df.iloc[0:]"
   ]
  },
  {
   "cell_type": "code",
   "execution_count": 27,
   "id": "922d4ebd-c347-4caa-bc70-637002092354",
   "metadata": {},
   "outputs": [
    {
     "data": {
      "text/html": [
       "<div>\n",
       "<style scoped>\n",
       "    .dataframe tbody tr th:only-of-type {\n",
       "        vertical-align: middle;\n",
       "    }\n",
       "\n",
       "    .dataframe tbody tr th {\n",
       "        vertical-align: top;\n",
       "    }\n",
       "\n",
       "    .dataframe thead th {\n",
       "        text-align: right;\n",
       "    }\n",
       "</style>\n",
       "<table border=\"1\" class=\"dataframe\">\n",
       "  <thead>\n",
       "    <tr style=\"text-align: right;\">\n",
       "      <th></th>\n",
       "      <th>premise</th>\n",
       "      <th>hypothesis</th>\n",
       "      <th>lang_abv</th>\n",
       "      <th>language</th>\n",
       "    </tr>\n",
       "  </thead>\n",
       "  <tbody>\n",
       "    <tr>\n",
       "      <th>count</th>\n",
       "      <td>12120</td>\n",
       "      <td>12120</td>\n",
       "      <td>12120</td>\n",
       "      <td>12120</td>\n",
       "    </tr>\n",
       "    <tr>\n",
       "      <th>unique</th>\n",
       "      <td>8209</td>\n",
       "      <td>12119</td>\n",
       "      <td>15</td>\n",
       "      <td>15</td>\n",
       "    </tr>\n",
       "    <tr>\n",
       "      <th>top</th>\n",
       "      <td>and these comments were considered in formulat...</td>\n",
       "      <td>I am not sure.</td>\n",
       "      <td>en</td>\n",
       "      <td>English</td>\n",
       "    </tr>\n",
       "    <tr>\n",
       "      <th>freq</th>\n",
       "      <td>3</td>\n",
       "      <td>2</td>\n",
       "      <td>6870</td>\n",
       "      <td>6870</td>\n",
       "    </tr>\n",
       "  </tbody>\n",
       "</table>\n",
       "</div>"
      ],
      "text/plain": [
       "                                                  premise      hypothesis  \\\n",
       "count                                               12120           12120   \n",
       "unique                                               8209           12119   \n",
       "top     and these comments were considered in formulat...  I am not sure.   \n",
       "freq                                                    3               2   \n",
       "\n",
       "       lang_abv language  \n",
       "count     12120    12120  \n",
       "unique       15       15  \n",
       "top          en  English  \n",
       "freq       6870     6870  "
      ]
     },
     "execution_count": 27,
     "metadata": {},
     "output_type": "execute_result"
    }
   ],
   "source": [
    "df.describe(include='object')"
   ]
  },
  {
   "cell_type": "code",
   "execution_count": 28,
   "id": "6bc470af-239e-42e1-84c2-676c58a75fdd",
   "metadata": {},
   "outputs": [],
   "source": [
    "df['input'] = 'TEXT1: ' + df.premise + '; TEXT2: ' + df.hypothesis + '; ANC1: ' + str(df.label)"
   ]
  },
  {
   "cell_type": "code",
   "execution_count": 29,
   "id": "bf379fd9-39c5-4078-9953-b3591ea86e90",
   "metadata": {},
   "outputs": [
    {
     "data": {
      "text/plain": [
       "id\n",
       "5130fd2cb5    TEXT1: and these comments were considered in f...\n",
       "5b72532a0b    TEXT1: These are issues that we wrestle with i...\n",
       "3931fbe82a    TEXT1: Des petites choses comme celles-là font...\n",
       "5622f0c60b    TEXT1: you know they can't really defend thems...\n",
       "86aaa48b45    TEXT1: ในการเล่นบทบาทสมมุติก็เช่นกัน โอกาสที่จ...\n",
       "Name: input, dtype: object"
      ]
     },
     "execution_count": 29,
     "metadata": {},
     "output_type": "execute_result"
    }
   ],
   "source": [
    "# X.columns\n",
    "# Y =X.premise\n",
    "# Y.head()\n",
    "# X_features = ['premise', 'hypothesis', 'language']\n",
    "# Xf = X[X_features]\n",
    "# Xf.describe()\n",
    "# Xf.head()\n",
    "input = df.input.head()\n",
    "input.iloc[0:]"
   ]
  },
  {
   "cell_type": "code",
   "execution_count": 30,
   "id": "f85bb590-fc9c-430a-9f5d-bb0778063aaa",
   "metadata": {},
   "outputs": [
    {
     "data": {
      "text/html": [
       "<div>\n",
       "<style scoped>\n",
       "    .dataframe tbody tr th:only-of-type {\n",
       "        vertical-align: middle;\n",
       "    }\n",
       "\n",
       "    .dataframe tbody tr th {\n",
       "        vertical-align: top;\n",
       "    }\n",
       "\n",
       "    .dataframe thead th {\n",
       "        text-align: right;\n",
       "    }\n",
       "</style>\n",
       "<table border=\"1\" class=\"dataframe\">\n",
       "  <thead>\n",
       "    <tr style=\"text-align: right;\">\n",
       "      <th></th>\n",
       "      <th>premise</th>\n",
       "      <th>hypothesis</th>\n",
       "      <th>lang_abv</th>\n",
       "      <th>language</th>\n",
       "    </tr>\n",
       "    <tr>\n",
       "      <th>id</th>\n",
       "      <th></th>\n",
       "      <th></th>\n",
       "      <th></th>\n",
       "      <th></th>\n",
       "    </tr>\n",
       "  </thead>\n",
       "  <tbody>\n",
       "    <tr>\n",
       "      <th>c6d58c3f69</th>\n",
       "      <td>بکس، کیسی، راہیل، یسعیاہ، کیلی، کیلی، اور کولم...</td>\n",
       "      <td>کیسی کے لئے کوئی یادگار نہیں ہوگا, کولمین ہائی...</td>\n",
       "      <td>ur</td>\n",
       "      <td>Urdu</td>\n",
       "    </tr>\n",
       "    <tr>\n",
       "      <th>cefcc82292</th>\n",
       "      <td>هذا هو ما تم نصحنا به.</td>\n",
       "      <td>عندما يتم إخبارهم بما يجب عليهم فعله ، فشلت ال...</td>\n",
       "      <td>ar</td>\n",
       "      <td>Arabic</td>\n",
       "    </tr>\n",
       "    <tr>\n",
       "      <th>e98005252c</th>\n",
       "      <td>et cela est en grande partie dû au fait que le...</td>\n",
       "      <td>Les mères se droguent.</td>\n",
       "      <td>fr</td>\n",
       "      <td>French</td>\n",
       "    </tr>\n",
       "    <tr>\n",
       "      <th>58518c10ba</th>\n",
       "      <td>与城市及其他公民及社区组织代表就IMA的艺术发展进行对话&amp;amp</td>\n",
       "      <td>IMA与其他组织合作，因为它们都依靠共享资金。</td>\n",
       "      <td>zh</td>\n",
       "      <td>Chinese</td>\n",
       "    </tr>\n",
       "    <tr>\n",
       "      <th>c32b0d16df</th>\n",
       "      <td>Она все еще была там.</td>\n",
       "      <td>Мы думали, что она ушла, однако, она осталась.</td>\n",
       "      <td>ru</td>\n",
       "      <td>Russian</td>\n",
       "    </tr>\n",
       "  </tbody>\n",
       "</table>\n",
       "</div>"
      ],
      "text/plain": [
       "                                                      premise  \\\n",
       "id                                                              \n",
       "c6d58c3f69  بکس، کیسی، راہیل، یسعیاہ، کیلی، کیلی، اور کولم...   \n",
       "cefcc82292                             هذا هو ما تم نصحنا به.   \n",
       "e98005252c  et cela est en grande partie dû au fait que le...   \n",
       "58518c10ba                   与城市及其他公民及社区组织代表就IMA的艺术发展进行对话&amp   \n",
       "c32b0d16df                              Она все еще была там.   \n",
       "\n",
       "                                                   hypothesis lang_abv  \\\n",
       "id                                                                       \n",
       "c6d58c3f69  کیسی کے لئے کوئی یادگار نہیں ہوگا, کولمین ہائی...       ur   \n",
       "cefcc82292  عندما يتم إخبارهم بما يجب عليهم فعله ، فشلت ال...       ar   \n",
       "e98005252c                             Les mères se droguent.       fr   \n",
       "58518c10ba                            IMA与其他组织合作，因为它们都依靠共享资金。       zh   \n",
       "c32b0d16df     Мы думали, что она ушла, однако, она осталась.       ru   \n",
       "\n",
       "           language  \n",
       "id                   \n",
       "c6d58c3f69     Urdu  \n",
       "cefcc82292   Arabic  \n",
       "e98005252c   French  \n",
       "58518c10ba  Chinese  \n",
       "c32b0d16df  Russian  "
      ]
     },
     "execution_count": 30,
     "metadata": {},
     "output_type": "execute_result"
    }
   ],
   "source": [
    "# X_test_full.describe()\n",
    "# print(X_test_full)\n",
    "# X_test_full.shape\n",
    "X_test_full.head()"
   ]
  },
  {
   "cell_type": "code",
   "execution_count": 31,
   "id": "9c55fe03-5235-4752-9ec9-3df67b1cef16",
   "metadata": {},
   "outputs": [],
   "source": [
    "# ! pip uninstall -y pyarrow datasets\n",
    "# ! pip install --no-cache-dir pyarrow datasets\n",
    "from datasets import Dataset, DatasetDict\n",
    "ds = Dataset.from_pandas(df)"
   ]
  },
  {
   "cell_type": "code",
   "execution_count": 32,
   "id": "b02845bb-ddf0-44ba-9420-2fa4ec0b6775",
   "metadata": {},
   "outputs": [
    {
     "data": {
      "text/plain": [
       "Dataset({\n",
       "    features: ['premise', 'hypothesis', 'lang_abv', 'language', 'label', 'input', 'id'],\n",
       "    num_rows: 12120\n",
       "})"
      ]
     },
     "execution_count": 32,
     "metadata": {},
     "output_type": "execute_result"
    }
   ],
   "source": [
    "ds"
   ]
  },
  {
   "cell_type": "code",
   "execution_count": 33,
   "id": "2bf3204d-0623-4ef8-8f18-837d48cc1209",
   "metadata": {},
   "outputs": [],
   "source": [
    "# model_nm = 'microsoft/deberta-v3-small'"
   ]
  },
  {
   "cell_type": "code",
   "execution_count": 34,
   "id": "bf527464-b45e-48f4-8b07-a331e533608e",
   "metadata": {},
   "outputs": [
    {
     "data": {
      "text/plain": [
       "['G',\n",
       " \"'d\",\n",
       " 'ay',\n",
       " 'Ġfolks',\n",
       " ',',\n",
       " 'ĠI',\n",
       " \"'m\",\n",
       " 'ĠJeremy',\n",
       " 'Ġfrom',\n",
       " 'Ġfast',\n",
       " '.',\n",
       " 'ai',\n",
       " '!']"
      ]
     },
     "execution_count": 34,
     "metadata": {},
     "output_type": "execute_result"
    }
   ],
   "source": [
    "# !pip install transformers\n",
    "# !pip install tiktoken\n",
    "# !pip install --upgrade ipywidgets\n",
    "from transformers import AutoModelForSequenceClassification,AutoTokenizer\n",
    "# tokz = AutoTokenizer.from_pretrained(model_nm)\n",
    "# from transformers import AutoTokenizer\n",
    "# tokz = AutoTokenizer.from_pretrained(\"microsoft/deberta-v3-base\", use_fast=False)  # Replace with your model name\n",
    "tokz = AutoTokenizer.from_pretrained(\"microsoft/deberta-base\")  # Example fallback\n",
    "\n",
    "# !pip install --upgrade ipywidgets jupyterlab_widgets\n",
    "# jupyter lab clean  # Clears cached assets\n",
    "# jupyter lab build  # Rebuilds JupyterLab with correct versions\n",
    "\n",
    "# !pip install --upgrade torch torchvision torchaudio\n",
    "\n",
    "# !pip install -U transformers\n",
    "# from transformers import pipeline\n",
    "\n",
    "# pipe = pipeline(\"fill-mask\", model=\"microsoft/deberta-v3-small\")\n",
    "# # # Load model directly\n",
    "# from transformers import AutoModel\n",
    "# model = AutoModel.from_pretrained(\"microsoft/deberta-v3-small\")\n",
    "tokz.tokenize(\"G'day folks, I'm Jeremy from fast.ai!\")"
   ]
  },
  {
   "cell_type": "code",
   "execution_count": 37,
   "id": "bd7a671c-8cad-4a63-ae28-53237dc6673b",
   "metadata": {},
   "outputs": [
    {
     "data": {
      "text/plain": [
       "['A',\n",
       " 'Ġplat',\n",
       " 'yp',\n",
       " 'us',\n",
       " 'Ġis',\n",
       " 'Ġan',\n",
       " 'Ġorn',\n",
       " 'ith',\n",
       " 'or',\n",
       " 'h',\n",
       " 'yn',\n",
       " 'ch',\n",
       " 'us',\n",
       " 'Ġan',\n",
       " 'atin',\n",
       " 'us',\n",
       " '.']"
      ]
     },
     "execution_count": 37,
     "metadata": {},
     "output_type": "execute_result"
    }
   ],
   "source": [
    "tokz.tokenize(\"A platypus is an ornithorhynchus anatinus.\")"
   ]
  },
  {
   "cell_type": "code",
   "execution_count": 35,
   "id": "95d79871-50e9-4a2a-92a3-a333cb08fd6a",
   "metadata": {},
   "outputs": [
    {
     "data": {
      "text/plain": [
       "Index(['premise', 'hypothesis', 'lang_abv', 'language'], dtype='object')"
      ]
     },
     "execution_count": 35,
     "metadata": {},
     "output_type": "execute_result"
    }
   ],
   "source": [
    "X_test_full.columns"
   ]
  },
  {
   "cell_type": "code",
   "execution_count": 36,
   "id": "3d3dc80d-e3ff-486b-a5cf-fad199510493",
   "metadata": {},
   "outputs": [
    {
     "ename": "NameError",
     "evalue": "name 'X' is not defined",
     "output_type": "error",
     "traceback": [
      "\u001b[1;31m---------------------------------------------------------------------------\u001b[0m",
      "\u001b[1;31mNameError\u001b[0m                                 Traceback (most recent call last)",
      "Cell \u001b[1;32mIn[36], line 2\u001b[0m\n\u001b[0;32m      1\u001b[0m \u001b[38;5;66;03m# dropna drops missing values (think of na as \"not available\")\u001b[39;00m\n\u001b[1;32m----> 2\u001b[0m Xna\u001b[38;5;241m=\u001b[39mX\u001b[38;5;241m.\u001b[39mdropna(axis\u001b[38;5;241m=\u001b[39m\u001b[38;5;241m0\u001b[39m)\n\u001b[0;32m      3\u001b[0m Xna\u001b[38;5;241m.\u001b[39mshape\n",
      "\u001b[1;31mNameError\u001b[0m: name 'X' is not defined"
     ]
    }
   ],
   "source": [
    "# dropna drops missing values (think of na as \"not available\")\n",
    "Xna=X.dropna(axis=0)\n",
    "Xna.shape"
   ]
  },
  {
   "cell_type": "code",
   "execution_count": null,
   "id": "3af92d45-8923-41de-9041-db410627275b",
   "metadata": {},
   "outputs": [],
   "source": [
    "pd.DataFrame({'Yes': [50, 21], 'No': [131, 2]})"
   ]
  },
  {
   "cell_type": "code",
   "execution_count": null,
   "id": "394cc93f-5c02-4587-bcdb-10cd20526585",
   "metadata": {},
   "outputs": [],
   "source": [
    "pd.DataFrame({'Bob': ['I liked it.', 'It was awful.'], 'Sue': ['Pretty good.', 'Bland.']})"
   ]
  },
  {
   "cell_type": "code",
   "execution_count": null,
   "id": "edbfaf2f-4a13-4a39-8453-8927c93738b4",
   "metadata": {},
   "outputs": [],
   "source": [
    "pd.DataFrame({'Bob': ['I liked it.', 'It was awful.'], \n",
    "              'Sue': ['Pretty good.', 'Bland.']},\n",
    "             index=['Product A', 'Product B'])"
   ]
  },
  {
   "cell_type": "code",
   "execution_count": null,
   "id": "5f8f4f5b-d8b5-48ab-9887-a88bf667cf1b",
   "metadata": {},
   "outputs": [],
   "source": [
    "pd.Series([1, 2, 3, 4, 5])"
   ]
  },
  {
   "cell_type": "code",
   "execution_count": null,
   "id": "142596ba-d3cb-420c-be3f-3f46d976a235",
   "metadata": {},
   "outputs": [],
   "source": [
    "pd.Series([30, 35, 40], index=['2015 Sales', '2016 Sales', '2017 Sales'], name='Product A')"
   ]
  },
  {
   "cell_type": "code",
   "execution_count": null,
   "id": "d1c0cbd9-31ad-4ece-a47d-6a5d3ea53b76",
   "metadata": {},
   "outputs": [],
   "source": []
  },
  {
   "cell_type": "code",
   "execution_count": null,
   "id": "a08991d4-53ea-46ed-a631-ade2c8513487",
   "metadata": {},
   "outputs": [],
   "source": []
  }
 ],
 "metadata": {
  "kernelspec": {
   "display_name": "Python 3 (ipykernel)",
   "language": "python",
   "name": "python3"
  },
  "language_info": {
   "codemirror_mode": {
    "name": "ipython",
    "version": 3
   },
   "file_extension": ".py",
   "mimetype": "text/x-python",
   "name": "python",
   "nbconvert_exporter": "python",
   "pygments_lexer": "ipython3",
   "version": "3.11.7"
  }
 },
 "nbformat": 4,
 "nbformat_minor": 5
}
